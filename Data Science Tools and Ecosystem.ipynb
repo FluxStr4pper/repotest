{
 "cells": [
  {
   "cell_type": "markdown",
   "metadata": {},
   "source": [
    "# Data Science Tools and Ecosystem"
   ]
  },
  {
   "cell_type": "markdown",
   "metadata": {},
   "source": [
    "In this notebook, Data Science Tools and Ecosystem are summarized.\n"
   ]
  },
  {
   "cell_type": "markdown",
   "metadata": {},
   "source": [
    "**Objectives:**\n",
    "\n",
    "- List popular languages for Data Science.\n",
    "- Introduce commonly used data science libraries.\n",
    "- Create a table of data science tools.\n",
    "- Demonstrate basic arithmetic operations in Python.\n",
    "- Convert units using simple arithmetic expressions.\n"
   ]
  },
  {
   "cell_type": "markdown",
   "metadata": {
    "notebookRunGroups": {
     "groupValue": "1"
    }
   },
   "source": [
    "Some of the popular languages that Data Scientists use are:\n",
    "\n",
    "1. **Python**: Known for its simplicity and readability, Python is widely used for data analysis, machine learning, and statistical modeling. It has extensive libraries and tools for data science.\n",
    "2. **R**: A language specifically designed for statistical computing and graphics. R provides a rich ecosystem for data analysis and visualization.\n",
    "3. **SQL**: Essential for data manipulation, SQL (Structured Query Language) is used to query and manage data stored in relational databases.\n",
    "4. **Julia**: Known for its high performance, Julia is used for numerical and scientific computing. It is gaining popularity in data science for its speed and mathematical syntax.\n",
    "5. **JavaScript**: Used in conjunction with libraries such as D3.js for data visualization in web development. JavaScript is important for building interactive data-driven applications.\n"
   ]
  },
  {
   "cell_type": "markdown",
   "metadata": {},
   "source": [
    "Some of the commonly used libraries used by Data Scientists include:\n",
    "\n",
    "1. **NumPy**: A library for numerical computing with support for arrays and mathematical functions.\n",
    "2. **pandas**: A data manipulation and analysis library that provides data structures like DataFrames.\n",
    "3. **matplotlib**: A plotting library for creating static, animated, and interactive visualizations in Python.\n",
    "4. **scikit-learn**: A machine learning library that offers simple and efficient tools for data mining and data analysis.\n",
    "5. **TensorFlow**: An open-source library for numerical computation and machine learning, particularly used for deep learning.\n"
   ]
  },
  {
   "cell_type": "markdown",
   "metadata": {},
   "source": [
    "| Data Science Tools                   |\n",
    "|---------------------------------------|\n",
    "| Jupyter Notebook                      |\n",
    "| RStudio                               |\n",
    "| Apache Zeppelin                       |\n"
   ]
  },
  {
   "cell_type": "markdown",
   "metadata": {},
   "source": [
    "### Below are a few examples of evaluating arithmetic expressions in Python.\n"
   ]
  },
  {
   "cell_type": "code",
   "execution_count": 9,
   "metadata": {},
   "outputs": [
    {
     "data": {
      "text/plain": [
       "17"
      ]
     },
     "execution_count": 9,
     "metadata": {},
     "output_type": "execute_result"
    }
   ],
   "source": [
    "# This is a simple arithmetic expression to multiply then add integers.\n",
    "(3 * 4) + 5\n"
   ]
  },
  {
   "cell_type": "code",
   "execution_count": 10,
   "metadata": {},
   "outputs": [
    {
     "data": {
      "text/plain": [
       "3.3333333333333335"
      ]
     },
     "execution_count": 10,
     "metadata": {},
     "output_type": "execute_result"
    }
   ],
   "source": [
    "# This will convert 200 minutes to hours by diving by 60\n",
    "200 / 60"
   ]
  },
  {
   "cell_type": "markdown",
   "metadata": {},
   "source": [
    "## Author\n",
    "\n",
    "Farhan Aziz\n"
   ]
  }
 ],
 "metadata": {
  "kernelspec": {
   "display_name": "Python 3",
   "language": "python",
   "name": "python3"
  },
  "language_info": {
   "codemirror_mode": {
    "name": "ipython",
    "version": 3
   },
   "file_extension": ".py",
   "mimetype": "text/x-python",
   "name": "python",
   "nbconvert_exporter": "python",
   "pygments_lexer": "ipython3",
   "version": "3.11.8"
  }
 },
 "nbformat": 4,
 "nbformat_minor": 2
}
